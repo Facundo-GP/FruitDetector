{
  "nbformat": 4,
  "nbformat_minor": 0,
  "metadata": {
    "colab": {
      "name": "RandomForestCaracteristicas.ipynb",
      "provenance": [],
      "collapsed_sections": []
    },
    "kernelspec": {
      "name": "python3",
      "display_name": "Python 3"
    },
    "language_info": {
      "name": "python"
    }
  },
  "cells": [
    {
      "cell_type": "code",
      "metadata": {
        "id": "zbfilHhJXYn8"
      },
      "source": [
        "import cv2\n",
        "from google.colab import drive\n",
        "import os\n",
        "import matplotlib.pyplot as plt\n",
        "import numpy as np\n",
        "from sklearn.model_selection import train_test_split\n",
        "from sklearn.neighbors import KNeighborsClassifier as KNN\n",
        "import seaborn as sn\n",
        "from sklearn.metrics import confusion_matrix\n",
        "from tqdm import tqdm\n",
        "from sklearn.ensemble import RandomForestClassifier as RF\n",
        "\n",
        "plt.rcParams['image.cmap'] = 'gray'"
      ],
      "execution_count": 56,
      "outputs": []
    },
    {
      "cell_type": "code",
      "metadata": {
        "colab": {
          "base_uri": "https://localhost:8080/"
        },
        "id": "1dvMIGU_X3_p",
        "outputId": "e410d93e-b9b8-48c3-c016-d7b600715222"
      },
      "source": [
        "drive.mount('/content/drive')"
      ],
      "execution_count": 57,
      "outputs": [
        {
          "output_type": "stream",
          "name": "stdout",
          "text": [
            "Drive already mounted at /content/drive; to attempt to forcibly remount, call drive.mount(\"/content/drive\", force_remount=True).\n"
          ]
        }
      ]
    },
    {
      "cell_type": "markdown",
      "metadata": {
        "id": "WCCcbliHZYfF"
      },
      "source": [
        "##Manzanas prueba"
      ]
    },
    {
      "cell_type": "code",
      "metadata": {
        "id": "cLn269f-ZJfL"
      },
      "source": [
        "os.chdir(\"/content/drive/MyDrive/Proyecto TIMAG\")"
      ],
      "execution_count": 58,
      "outputs": []
    },
    {
      "cell_type": "code",
      "metadata": {
        "colab": {
          "base_uri": "https://localhost:8080/"
        },
        "id": "_9d_krJVYfRM",
        "outputId": "7fdeb56e-1915-4819-f877-f7dd89915a41"
      },
      "source": [
        "!ls"
      ],
      "execution_count": 59,
      "outputs": [
        {
          "output_type": "stream",
          "name": "stdout",
          "text": [
            "Backgrounds\t  dataset.zip\t\t       Frutas\n",
            "clasificador.png  detector.png\t\t       Pruebas_separar.ipynb\n",
            "dataset\t\t  Entregable3IvanAbatte.ipynb  Untitled0.ipynb\n"
          ]
        }
      ]
    },
    {
      "cell_type": "code",
      "metadata": {
        "id": "aEfai21Pi4wA"
      },
      "source": [
        "def background(I,Ib):\n",
        "  return I*np.moveaxis(np.array([Ib,Ib,Ib]),0,-1)\n",
        "\n",
        "def mean_color(I,Ib):\n",
        "  bk=I*np.moveaxis(np.array([Ib,Ib,Ib]),0,-1)\n",
        "  mean=np.sum(bk,axis=(0,1))/np.sum(Ib,axis=(0,1))\n",
        "  return mean\n",
        "\n",
        "def filtrar_areas(img,th):\n",
        "    connectivity = 8\n",
        "    out = cv2.connectedComponentsWithStats(img, connectivity)\n",
        "    labels = out[0]\n",
        "    cc = out[1]\n",
        "    area = out[2][:,-1]\n",
        "\n",
        "    for i in range(cc.shape[0]):\n",
        "        for j in range(cc.shape[1]):\n",
        "            if cc[i,j] != 0:\n",
        "                if area[cc[i,j]] < th:\n",
        "                    cc[i,j] = 0\n",
        "                else:\n",
        "                    cc[i,j] = 255\n",
        "    return np.array(cc/255,np.uint8)\n",
        "    \n",
        "def calcular_momento(x,n):\n",
        "    '''\n",
        "    Calcula el momento de orden n de la muestra x\n",
        "    '''\n",
        "    z=np.arange(len(x))/len(x)\n",
        "    m=sum(x*z)/len(x)\n",
        "    \n",
        "    if n==1:\n",
        "        return m\n",
        "    else:\n",
        "        m_n=sum(((z-m)**n)*x)\n",
        "    \n",
        "    return m_n\n",
        "def entropy(c):\n",
        "  numBins = 256        #Calculamos el histograma en modo densidad (normalizado)\n",
        "  histograma, bin_edges = np.histogram(c, np.arange(numBins+1), density=True)\n",
        "  mean=calcular_momento(histograma,n=1)\n",
        "  skewness=calcular_momento(histograma,n=3)\n",
        "  flatness=calcular_momento(histograma,n=4)\n",
        "  R=1-1/(1+calcular_momento(histograma,n=2))\n",
        "  uniformity=sum(histograma**2)\n",
        "  return np.array([mean,skewness,flatness,R,uniformity])"
      ],
      "execution_count": 60,
      "outputs": []
    },
    {
      "cell_type": "code",
      "source": [
        "def fill_holes(I):\n",
        "  im_floodfill = I.copy()\n",
        "  h, w = I.shape[:2]\n",
        "  mask = np.zeros((h+2, w+2), np.uint8)\n",
        "\n",
        "  # Floodfill from point (0, 0)\n",
        "  cv2.floodFill(im_floodfill, mask, (0,0), 255);\n",
        "\n",
        "  # Invert floodfilled image\n",
        "  im_floodfill_inv = cv2.bitwise_not(im_floodfill)\n",
        "\n",
        "  # Combine the two images to get the foreground.\n",
        "  return I | im_floodfill_inv"
      ],
      "metadata": {
        "id": "6pnay9g9SjAq"
      },
      "execution_count": 61,
      "outputs": []
    },
    {
      "cell_type": "code",
      "metadata": {
        "id": "JnSvYroc0WCT"
      },
      "source": [
        "frutas=os.listdir(\"dataset\")"
      ],
      "execution_count": 62,
      "outputs": []
    },
    {
      "cell_type": "code",
      "source": [
        "def get_features_contours(contours):\n",
        "  areas=[cv2.contourArea(contour) for contour in contours]\n",
        "  perimetros=[cv2.arcLength(contour,True) for contour in contours]\n",
        "  circularidad=[4*np.pi*area/(perimetro**2) for area,perimetro in zip(areas,perimetros)]\n",
        "  return np.array([min(areas),min(perimetros),max(circularidad),min(circularidad)])"
      ],
      "metadata": {
        "id": "EC5OPgnmWTWR"
      },
      "execution_count": 64,
      "outputs": []
    },
    {
      "cell_type": "code",
      "metadata": {
        "colab": {
          "base_uri": "https://localhost:8080/",
          "height": 139
        },
        "id": "v6Q8Pp-l0h5R",
        "outputId": "008bed82-c183-4e64-87a1-e22c23b25706"
      },
      "source": [
        "X=[]\n",
        "\n",
        "plt.figure()\n",
        "\n",
        "for fruta in frutas:\n",
        "  for img_path in tqdm(os.listdir(f\"dataset/{fruta}/datos\")):\n",
        "     I=cv2.imread(f\"dataset/{fruta}/datos/{img_path}\")  #Levantamos la imagen\n",
        "     Iy=cv2.cvtColor(I,cv2.COLOR_BGR2YUV)        #La pasamos a YUV\n",
        "     u=Iy[...,1]\n",
        "     v=Iy[...,2]\n",
        "     _, thru = cv2.threshold(u, 0, 255, cv2.THRESH_BINARY + cv2.THRESH_OTSU)   #Binarizamos\n",
        "     _, thrv = cv2.threshold(v, 0, 255, cv2.THRESH_BINARY + cv2.THRESH_OTSU)\n",
        "     ub=u>thru\n",
        "     vb=v<thrv\n",
        "     orb=ub+vb                                  #Nos quedamos con el OR\n",
        "     kernel = np.ones((7,7),np.uint8)\n",
        "     orb_c=cv2.morphologyEx(np.array(orb,np.uint8), cv2.MORPH_OPEN, kernel)   #Hacemos el OPEN\n",
        "     orb_c_f=filtrar_areas(orb_c,1000)                   #Filtramos areas\n",
        "     blur = cv2.blur(orb_c_f,(7,7))                      #Hacemos un blur\n",
        "     contours, hierarchy =cv2.findContours(fill_holes(blur), cv2.RETR_TREE, cv2.CHAIN_APPROX_SIMPLE)  #Calculamos contornos de la imagen rellena\n",
        "     contours_features=get_features_contours(contours)   #Sacamos features de los contornos\n",
        "     mean=mean_color(cv2.cvtColor(I,cv2.COLOR_BGR2RGB),blur)   #Obtenemos color medio\n",
        "     datos=np.hstack((mean,contours_features))   #Juntamos los datos\n",
        "     X.append([datos,fruta])\n",
        "     #cv2.imwrite(f\"Backgrounds/{fruta}_{img_path}.png\",background(I,blur))"
      ],
      "execution_count": 66,
      "outputs": [
        {
          "output_type": "stream",
          "name": "stderr",
          "text": [
            "100%|██████████| 63/63 [00:12<00:00,  4.87it/s]\n",
            "100%|██████████| 63/63 [00:13<00:00,  4.74it/s]\n",
            "100%|██████████| 63/63 [00:13<00:00,  4.84it/s]\n",
            "100%|██████████| 63/63 [00:12<00:00,  5.16it/s]\n",
            "100%|██████████| 63/63 [00:25<00:00,  2.51it/s]\n",
            "100%|██████████| 63/63 [00:17<00:00,  3.51it/s]\n"
          ]
        },
        {
          "output_type": "display_data",
          "data": {
            "text/plain": [
              "<Figure size 432x288 with 0 Axes>"
            ]
          },
          "metadata": {}
        }
      ]
    },
    {
      "cell_type": "code",
      "metadata": {
        "id": "KURMXfvSe-7E"
      },
      "source": [
        "X_m=np.array([x[0] for x in X])"
      ],
      "execution_count": 67,
      "outputs": []
    },
    {
      "cell_type": "code",
      "metadata": {
        "id": "C5awVkqjgAxn"
      },
      "source": [
        "mapa={'manzanas': 0, 'bananas': 1, 'kiwis': 2, 'mangos': 3, 'naranjas': 4, 'cerezas': 5}\n",
        "y=np.array([mapa[x[1]] for x in X])"
      ],
      "execution_count": 68,
      "outputs": []
    },
    {
      "cell_type": "code",
      "metadata": {
        "id": "AQZlCPQ8gOJm"
      },
      "source": [
        "X_train, X_val, y_train, y_val = train_test_split(X_m, y, test_size=0.5, random_state=4280)"
      ],
      "execution_count": 72,
      "outputs": []
    },
    {
      "cell_type": "code",
      "metadata": {
        "colab": {
          "base_uri": "https://localhost:8080/"
        },
        "id": "V_m2ME4hgw0-",
        "outputId": "c0b85bda-b3fa-4d5b-ae51-e53c1e6bbf21"
      },
      "source": [
        "rf=RF(n_estimators=1000)\n",
        "rf.fit(X_train,y_train)"
      ],
      "execution_count": 73,
      "outputs": [
        {
          "output_type": "execute_result",
          "data": {
            "text/plain": [
              "RandomForestClassifier(n_estimators=1000)"
            ]
          },
          "metadata": {},
          "execution_count": 73
        }
      ]
    },
    {
      "cell_type": "code",
      "metadata": {
        "id": "mMK5kpxCg3jB"
      },
      "source": [
        "predicciones=rf.predict(X_val)\n",
        "acc=sum(predicciones==y_val)/len(y_val)"
      ],
      "execution_count": 74,
      "outputs": []
    },
    {
      "cell_type": "code",
      "metadata": {
        "colab": {
          "base_uri": "https://localhost:8080/"
        },
        "id": "T7J_Gk1RhCnw",
        "outputId": "c7e57aaf-7df8-4b62-dabf-02b929c01dc8"
      },
      "source": [
        "acc"
      ],
      "execution_count": 75,
      "outputs": [
        {
          "output_type": "execute_result",
          "data": {
            "text/plain": [
              "0.8518518518518519"
            ]
          },
          "metadata": {},
          "execution_count": 75
        }
      ]
    },
    {
      "cell_type": "code",
      "metadata": {
        "colab": {
          "base_uri": "https://localhost:8080/",
          "height": 297
        },
        "id": "tgqf_sPEmgGW",
        "outputId": "3b186b90-24f3-4861-ffff-4c558dd82f45"
      },
      "source": [
        "matriz_confusion=confusion_matrix(y_val,predicciones)\n",
        "\n",
        "plt.figure()\n",
        "ax= plt.subplot()\n",
        "sn.heatmap(matriz_confusion, annot=True, fmt='g', ax=ax)\n",
        "\n",
        "ax.set_xlabel('Etiquetas predecidas')\n",
        "ax.set_ylabel('Etiquetas verdaderas')\n",
        "ax.set_title('Matriz de confusion')\n",
        "ax.xaxis.set_ticklabels(range(6),rotation=45);\n",
        "ax.yaxis.set_ticklabels(range(6),rotation=45);"
      ],
      "execution_count": 76,
      "outputs": [
        {
          "output_type": "display_data",
          "data": {
            "image/png": "[encoded data removed]",
            "text/plain": [
              "<Figure size 432x288 with 2 Axes>"
            ]
          },
          "metadata": {
            "needs_background": "light"
          }
        }
      ]
    }
  ]
}